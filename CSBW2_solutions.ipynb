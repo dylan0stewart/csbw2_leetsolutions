{
  "nbformat": 4,
  "nbformat_minor": 0,
  "metadata": {
    "colab": {
      "name": "CSBW2_solutions.ipynb",
      "provenance": [],
      "collapsed_sections": [],
      "authorship_tag": "ABX9TyMD7Oi4od3DHhvG/U0r0xkV",
      "include_colab_link": true
    },
    "kernelspec": {
      "name": "python3",
      "display_name": "Python 3"
    }
  },
  "cells": [
    {
      "cell_type": "markdown",
      "metadata": {
        "id": "view-in-github",
        "colab_type": "text"
      },
      "source": [
        "<a href=\"https://colab.research.google.com/github/dylan0stewart/csbw2_leetsolutions/blob/master/CSBW2_solutions.ipynb\" target=\"_parent\"><img src=\"https://colab.research.google.com/assets/colab-badge.svg\" alt=\"Open In Colab\"/></a>"
      ]
    },
    {
      "cell_type": "code",
      "metadata": {
        "id": "f_IpnLWNFoVN",
        "colab_type": "code",
        "colab": {}
      },
      "source": [
        "# DAY 1 Problem 1\n",
        "\n",
        "class Solution:\n",
        "    def containsDuplicate(self, nums) -> bool:\n",
        "        return len(nums) > len(set(nums))"
      ],
      "execution_count": null,
      "outputs": []
    },
    {
      "cell_type": "code",
      "metadata": {
        "id": "iLWwiI5-Fro4",
        "colab_type": "code",
        "colab": {}
      },
      "source": [
        "# DAY 1 PROBELM 2\n",
        "\n",
        "class Solution:\n",
        "    def addTwoNumbers(self, l1: ListNode, l2: ListNode) -> ListNode:\n",
        "        \n",
        "        carry = 0\n",
        "        cur = ListNode(None)\n",
        "        temp = cur\n",
        "        \n",
        "        while l1 or l2:\n",
        "            x = l1.val if l1 else 0\n",
        "            y = l2.val if l2 else 0\n",
        "\n",
        "            total = x + y + carry\n",
        "            carry = total//10\n",
        "\n",
        "            cur.next = ListNode(total%10)\n",
        "            cur = cur.next\n",
        "\n",
        "            if l1:l1 = l1.next\n",
        "            if l2:l2 = l2.next\n",
        "    \n",
        "        if carry: \n",
        "            cur.next = ListNode(carry)\n",
        "        \n",
        "        return temp.next"
      ],
      "execution_count": null,
      "outputs": []
    },
    {
      "cell_type": "code",
      "metadata": {
        "id": "5YlXT_mZBvJy",
        "colab_type": "code",
        "colab": {}
      },
      "source": [
        "# DAY 2 PROBLEM 1\n",
        "class Solution:\n",
        "    def twoSum(self, nums: List[int], target: int) -> List[int]:\n",
        "        cache = {}\n",
        "        \n",
        "        for num in range(len(nums)):\n",
        "            diff = target - nums[num]\n",
        "            \n",
        "            \n",
        "            if diff in cache:\n",
        "                return cache[diff], num\n",
        "            \n",
        "            cache[nums[num]] = num"
      ],
      "execution_count": null,
      "outputs": []
    },
    {
      "cell_type": "code",
      "metadata": {
        "id": "oOAhh7_RDTS_",
        "colab_type": "code",
        "colab": {}
      },
      "source": [
        "# DAY 2 PROBLEM 2\n",
        "class MyQueue:\n",
        "\n",
        "    def __init__(self):\n",
        "        \"\"\"\n",
        "        Initialize your data structure here.\n",
        "        \"\"\"\n",
        "        self.stack1 = []\n",
        "        self.stack2 = []\n",
        "\n",
        "    def push(self, x: int) -> None:\n",
        "        \"\"\"\n",
        "        Push element x to the back of queue.\n",
        "        \"\"\"\n",
        "        self.stack1.append(x)\n",
        "\n",
        "    def pop(self) -> int:\n",
        "        \"\"\"\n",
        "        Removes the element from in front of queue and returns that element.\n",
        "        \"\"\"\n",
        "        if self.stack2:\n",
        "            return self.stack2.pop()\n",
        "    \n",
        "        if self.stack1:\n",
        "            while(self.stack1):\n",
        "                self.stack2.append(self.stack1.pop())\n",
        "                \n",
        "            return self.stack2.pop()        \n",
        "\n",
        "    def peek(self) -> int:\n",
        "        \"\"\"\n",
        "        Get the front element.\n",
        "        \"\"\"\n",
        "        if self.stack2:\n",
        "            return self.stack2[-1]\n",
        "        \n",
        "        if self.stack1:\n",
        "            while(self.stack1):\n",
        "                self.stack2.append(self.stack1.pop())\n",
        "                \n",
        "            return self.stack2[-1]        \n",
        "\n",
        "    def empty(self) -> bool:\n",
        "        \"\"\"\n",
        "        Returns whether the queue is empty.\n",
        "        \"\"\"\n",
        "        return not self.stack1 and not self.stack2\n",
        "\n",
        "\n",
        "# Your MyQueue object will be instantiated and called as such:\n",
        "# obj = MyQueue()\n",
        "# obj.push(x)\n",
        "# param_2 = obj.pop()\n",
        "# param_3 = obj.peek()\n",
        "# param_4 = obj.empty()"
      ],
      "execution_count": null,
      "outputs": []
    }
  ]
}