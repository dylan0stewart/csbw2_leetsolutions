{
  "nbformat": 4,
  "nbformat_minor": 0,
  "metadata": {
    "colab": {
      "name": "CSBW2_solutions.ipynb",
      "provenance": []
    },
    "kernelspec": {
      "name": "python3",
      "display_name": "Python 3"
    }
  },
  "cells": [
    {
      "cell_type": "code",
      "metadata": {
        "id": "f_IpnLWNFoVN",
        "colab_type": "code",
        "colab": {}
      },
      "source": [
        "class Solution:\n",
        "    def containsDuplicate(self, nums) -> bool:\n",
        "        return len(nums) > len(set(nums))"
      ],
      "execution_count": null,
      "outputs": []
    },
    {
      "cell_type": "code",
      "metadata": {
        "id": "iLWwiI5-Fro4",
        "colab_type": "code",
        "colab": {}
      },
      "source": [
        "class Solution:\n",
        "    def addTwoNumbers(self, l1: ListNode, l2: ListNode) -> ListNode:\n",
        "        \n",
        "        carry = 0\n",
        "        cur = ListNode(None)\n",
        "        temp = cur\n",
        "        \n",
        "        while l1 or l2:\n",
        "            x = l1.val if l1 else 0\n",
        "            y = l2.val if l2 else 0\n",
        "\n",
        "            total = x + y + carry\n",
        "            carry = total//10\n",
        "\n",
        "            cur.next = ListNode(total%10)\n",
        "            cur = cur.next\n",
        "\n",
        "            if l1:l1 = l1.next\n",
        "            if l2:l2 = l2.next\n",
        "    \n",
        "        if carry: \n",
        "            cur.next = ListNode(carry)\n",
        "        \n",
        "        return temp.next"
      ],
      "execution_count": null,
      "outputs": []
    }
  ]
}